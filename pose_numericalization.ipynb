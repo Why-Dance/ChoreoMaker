{
 "cells": [
  {
   "cell_type": "code",
   "execution_count": 1,
   "metadata": {},
   "outputs": [],
   "source": [
    "import csv"
   ]
  },
  {
   "cell_type": "code",
   "execution_count": 2,
   "metadata": {},
   "outputs": [],
   "source": [
    "key_point_csv = open('tf_openpose/key_point_coordinates.csv','r')"
   ]
  },
  {
   "cell_type": "code",
   "execution_count": 3,
   "metadata": {},
   "outputs": [],
   "source": [
    "key_point = []\n",
    "key_point_raw = []\n",
    "\n",
    "for line in key_point_csv:\n",
    "    key_point_raw.append(line.strip('\\n'))\n",
    "    \n",
    "for i in range(0, len(key_point_raw)):\n",
    "    key_point.append(key_point_raw[i].split(','))\n",
    "    \n",
    "for i in range(0, len(key_point)):\n",
    "    for j in range(0, len(key_point[i])):\n",
    "        key_point[i][j] = int(key_point[i][j].strip())"
   ]
  },
  {
   "cell_type": "code",
   "execution_count": 4,
   "metadata": {
    "scrolled": true
   },
   "outputs": [
    {
     "name": "stdout",
     "output_type": "stream",
     "text": [
      "106\n"
     ]
    }
   ],
   "source": [
    "print(key_point[0][1])"
   ]
  },
  {
   "cell_type": "code",
   "execution_count": 13,
   "metadata": {},
   "outputs": [
    {
     "name": "stdout",
     "output_type": "stream",
     "text": [
      "0b111001100110011001\n"
     ]
    }
   ],
   "source": [
    "pose_value = 0\n",
    "\n",
    "#몸 높이\n",
    "#어깨-골반, 골반-무릎 사이의 거리를 기준으로 측정\n",
    "shoulder_h = (key_point[2][1] + key_point[5][1])/2\n",
    "hip_h = (key_point[8][1] + key_point[11][1])/2\n",
    "knee_h = (key_point[9][1] + key_point[12][1])/2\n",
    "\n",
    "upper_body = (hip_h - shoulder_h)/9*10\n",
    "lower_body = (knee_h - hip_h)/8*10\n",
    "\n",
    "if(upper_body + lower_body < 40):\n",
    "    pose_value += 1<<19 #10, 누움\n",
    "elif(upper_body*3/5 > lower_body):\n",
    "    pose_value += 1<<19\n",
    "    pose_value += 1<<18 #11, 앉음\n",
    "elif(lower_body*3/5 > upper_body):\n",
    "    pose_value += 1<<18 #01, 숙임\n",
    "#else: 00, 서있음\n",
    "\n",
    "#몸의 방향\n",
    "#두 어깨의 x좌표 기준으로 측정\n",
    "left_shoulder_x = key_point[2][0]\n",
    "right_shoulder_x = key_point[5][0]\n",
    "\n",
    "if(left_shoulder_x == 0):\n",
    "    pose_value += 1<<16 #01 우측 주시\n",
    "elif(right_shoulder_x == 0):\n",
    "    pose_value += 1<<17 #10 좌측 주시\n",
    "elif(left_shoulder_x > right_shoulder_x):\n",
    "    pose_value += 1<<17 \n",
    "    pose_value += 1<<16 #11 뒤쪽 주시\n",
    "#else: 00, 정면 주시\n",
    "\n",
    "#손 위치\n",
    "#좌우는 어깨 넓이의 2/3을 기준으로 범위 계산\n",
    "#상하는 어깨 넓이의 1/2을 기준으로 범위 계산\n",
    "shoulder_width = (right_shoulder_x - left_shoulder_x)*2/3\n",
    "shoulder_height = (right_shoulder_x - left_shoulder_x)/2\n",
    "\n",
    "left_shoulder_y = key_point[2][1]\n",
    "right_shoulder_y = key_point[5][1]\n",
    "\n",
    "left_hand_x = key_point[4][0]\n",
    "left_hand_y = key_point[4][1]\n",
    "right_hand_x = key_point[7][0]\n",
    "right_hand_y = key_point[7][1]\n",
    "\n",
    "#왼손 좌우 위치\n",
    "if(left_hand_x < (left_shoulder_x - shoulder_width)):\n",
    "    pose_value += 1<<15 #10, 왼쪽\n",
    "elif(left_hand_x > (letf_shoulder_x + shoulder_width)):\n",
    "    pose_value += 1<<14 #01, 오른쪽\n",
    "#else: 00, 가운데\n",
    "\n",
    "#왼손 상하 위치\n",
    "if(left_hand_y < (left_shoulder_y - shoulder_height)):\n",
    "    pose_value += 1<<13 #10, 위\n",
    "elif(left_hand_y > (left_shoulder_y + shoulder_height)):\n",
    "    pose_value += 1<<12 #01, 아래\n",
    "#else: 00, 가운데\n",
    "\n",
    "#오른손 좌우 위치\n",
    "if(right_hand_x < (right_shoulder_x - shoulder_width)):\n",
    "    pose_value += 1<<11 #10, 왼쪽\n",
    "elif(right_hand_x > (right_shoulder_x + shoulder_width)):\n",
    "    pose_value += 1<<10 #01, 오른쪽\n",
    "#else: 00, 가운데\n",
    "\n",
    "#왼손 상하 위치\n",
    "if(right_hand_y < (right_shoulder_y - shoulder_height)):\n",
    "    pose_value += 1<<9 #10, 위\n",
    "elif(right_hand_y > (right_shoulder_y + shoulder_height)):\n",
    "    pose_value += 1<<8 #01, 아래\n",
    "#else: 00, 가운데\n",
    "\n",
    "\n",
    "#발 위치\n",
    "left_hip_x = key_point[8][0]\n",
    "left_hip_y = key_point[8][1]\n",
    "right_hip_x = key_point[11][0]\n",
    "right_hip_y = key_point[11][1]\n",
    "\n",
    "left_foot_x = key_point[10][0]\n",
    "left_foot_y = key_point[10][1]\n",
    "right_foot_x = key_point[13][0]\n",
    "right_foot_y = key_point[13][1]\n",
    "\n",
    "hip_width = right_hip_x - left_hip_x\n",
    "\n",
    "#왼발 좌우 위치\n",
    "if(left_foot_x < (left_hip_x - hip_width)):\n",
    "    pose_value += 1<<7 #10, 왼쪽\n",
    "elif(left_foot_x > (left_hip_x + hip_width)):\n",
    "    pose_value += 1<<6 #01, 오른쪽\n",
    "#else: 00, 가운데\n",
    "\n",
    "#왼발 상하 위치\n",
    "if(left_foot_y < (left_hip_y + hip_width)):\n",
    "    pose_value += 1<<5 #10, 위\n",
    "elif(left_foot_y > (left_hip_y + 2*hip_width)):\n",
    "    pose_value += 1<<4 #01, 아래\n",
    "#else: 00, 가운데\n",
    "\n",
    "#오른발 좌우 위치\n",
    "if(right_foot_x < (right_hip_x - hip_width)):\n",
    "    pose_value += 1<<3 #10, 왼쪽\n",
    "elif(right_foot_x > (right_hip_x + hip_width)):\n",
    "    pose_value += 1<<2 #01, 오른쪽\n",
    "#else: 00, 가운데\n",
    "\n",
    "#오른발 상하 위치\n",
    "if(right_foot_y < (right_hip_y + hip_width)):\n",
    "    pose_value += 1<<1 #10, 위\n",
    "elif(right_foot_y > (right_hip_y + 2*hip_width)):\n",
    "    pose_value += 1<<0 #01, 아래\n",
    "#else: 00, 가운데\n",
    "\n",
    "print(bin(pose_value))"
   ]
  }
 ],
 "metadata": {
  "kernelspec": {
   "display_name": "Python 3",
   "language": "python",
   "name": "python3"
  },
  "language_info": {
   "codemirror_mode": {
    "name": "ipython",
    "version": 3
   },
   "file_extension": ".py",
   "mimetype": "text/x-python",
   "name": "python",
   "nbconvert_exporter": "python",
   "pygments_lexer": "ipython3",
   "version": "3.6.5"
  }
 },
 "nbformat": 4,
 "nbformat_minor": 2
}
