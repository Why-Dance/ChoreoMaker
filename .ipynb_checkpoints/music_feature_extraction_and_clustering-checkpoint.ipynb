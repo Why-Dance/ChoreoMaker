{
 "cells": [
  {
   "cell_type": "code",
   "execution_count": 2,
   "metadata": {},
   "outputs": [
    {
     "name": "stderr",
     "output_type": "stream",
     "text": [
      "C:\\Users\\hlynn\\anaconda3\\lib\\site-packages\\tensorflow\\python\\framework\\dtypes.py:516: FutureWarning: Passing (type, 1) or '1type' as a synonym of type is deprecated; in a future version of numpy, it will be understood as (type, (1,)) / '(1,)type'.\n",
      "  _np_qint8 = np.dtype([(\"qint8\", np.int8, 1)])\n",
      "C:\\Users\\hlynn\\anaconda3\\lib\\site-packages\\tensorflow\\python\\framework\\dtypes.py:517: FutureWarning: Passing (type, 1) or '1type' as a synonym of type is deprecated; in a future version of numpy, it will be understood as (type, (1,)) / '(1,)type'.\n",
      "  _np_quint8 = np.dtype([(\"quint8\", np.uint8, 1)])\n",
      "C:\\Users\\hlynn\\anaconda3\\lib\\site-packages\\tensorflow\\python\\framework\\dtypes.py:518: FutureWarning: Passing (type, 1) or '1type' as a synonym of type is deprecated; in a future version of numpy, it will be understood as (type, (1,)) / '(1,)type'.\n",
      "  _np_qint16 = np.dtype([(\"qint16\", np.int16, 1)])\n",
      "C:\\Users\\hlynn\\anaconda3\\lib\\site-packages\\tensorflow\\python\\framework\\dtypes.py:519: FutureWarning: Passing (type, 1) or '1type' as a synonym of type is deprecated; in a future version of numpy, it will be understood as (type, (1,)) / '(1,)type'.\n",
      "  _np_quint16 = np.dtype([(\"quint16\", np.uint16, 1)])\n",
      "C:\\Users\\hlynn\\anaconda3\\lib\\site-packages\\tensorflow\\python\\framework\\dtypes.py:520: FutureWarning: Passing (type, 1) or '1type' as a synonym of type is deprecated; in a future version of numpy, it will be understood as (type, (1,)) / '(1,)type'.\n",
      "  _np_qint32 = np.dtype([(\"qint32\", np.int32, 1)])\n",
      "C:\\Users\\hlynn\\anaconda3\\lib\\site-packages\\tensorflow\\python\\framework\\dtypes.py:525: FutureWarning: Passing (type, 1) or '1type' as a synonym of type is deprecated; in a future version of numpy, it will be understood as (type, (1,)) / '(1,)type'.\n",
      "  np_resource = np.dtype([(\"resource\", np.ubyte, 1)])\n",
      "C:\\Users\\hlynn\\anaconda3\\lib\\site-packages\\tensorboard\\compat\\tensorflow_stub\\dtypes.py:541: FutureWarning: Passing (type, 1) or '1type' as a synonym of type is deprecated; in a future version of numpy, it will be understood as (type, (1,)) / '(1,)type'.\n",
      "  _np_qint8 = np.dtype([(\"qint8\", np.int8, 1)])\n",
      "C:\\Users\\hlynn\\anaconda3\\lib\\site-packages\\tensorboard\\compat\\tensorflow_stub\\dtypes.py:542: FutureWarning: Passing (type, 1) or '1type' as a synonym of type is deprecated; in a future version of numpy, it will be understood as (type, (1,)) / '(1,)type'.\n",
      "  _np_quint8 = np.dtype([(\"quint8\", np.uint8, 1)])\n",
      "C:\\Users\\hlynn\\anaconda3\\lib\\site-packages\\tensorboard\\compat\\tensorflow_stub\\dtypes.py:543: FutureWarning: Passing (type, 1) or '1type' as a synonym of type is deprecated; in a future version of numpy, it will be understood as (type, (1,)) / '(1,)type'.\n",
      "  _np_qint16 = np.dtype([(\"qint16\", np.int16, 1)])\n",
      "C:\\Users\\hlynn\\anaconda3\\lib\\site-packages\\tensorboard\\compat\\tensorflow_stub\\dtypes.py:544: FutureWarning: Passing (type, 1) or '1type' as a synonym of type is deprecated; in a future version of numpy, it will be understood as (type, (1,)) / '(1,)type'.\n",
      "  _np_quint16 = np.dtype([(\"quint16\", np.uint16, 1)])\n",
      "C:\\Users\\hlynn\\anaconda3\\lib\\site-packages\\tensorboard\\compat\\tensorflow_stub\\dtypes.py:545: FutureWarning: Passing (type, 1) or '1type' as a synonym of type is deprecated; in a future version of numpy, it will be understood as (type, (1,)) / '(1,)type'.\n",
      "  _np_qint32 = np.dtype([(\"qint32\", np.int32, 1)])\n",
      "C:\\Users\\hlynn\\anaconda3\\lib\\site-packages\\tensorboard\\compat\\tensorflow_stub\\dtypes.py:550: FutureWarning: Passing (type, 1) or '1type' as a synonym of type is deprecated; in a future version of numpy, it will be understood as (type, (1,)) / '(1,)type'.\n",
      "  np_resource = np.dtype([(\"resource\", np.ubyte, 1)])\n"
     ]
    }
   ],
   "source": [
    "import tensorflow as tf\n",
    "import numpy as np\n",
    "import pandas as pd\n",
    "from pyAudioAnalysis import audioBasicIO #A\n",
    "from pyAudioAnalysis import ShortTermFeatures #B\n",
    "import matplotlib.pyplot as plt\n",
    "import os #C"
   ]
  },
  {
   "cell_type": "markdown",
   "metadata": {},
   "source": [
    "오디오 파일 전처리"
   ]
  },
  {
   "cell_type": "code",
   "execution_count": 3,
   "metadata": {},
   "outputs": [],
   "source": [
    "def preProcess( fileName ):\n",
    "    [Fs, x] = audioBasicIO.read_audio_file(fileName) #A\n",
    "\n",
    "    #B\n",
    "    if( len( x.shape ) > 1 and  x.shape[1] == 2 ):\n",
    "        x = np.mean( x, axis = 1, keepdims = True )\n",
    "    else:\n",
    "        x = x.reshape( x.shape[0], 1 )\n",
    "    #C\n",
    "    F, f_names = ShortTermFeatures.feature_extraction(\n",
    "        x[ :, 0 ],\n",
    "        Fs, 0.050*Fs,\n",
    "        0.025*Fs\n",
    "    )\n",
    "    \n",
    "    #return (f_names, F)\n",
    "    return F"
   ]
  },
  {
   "cell_type": "markdown",
   "metadata": {},
   "source": [
    "크로마그램 특성 추출"
   ]
  },
  {
   "cell_type": "code",
   "execution_count": 4,
   "metadata": {},
   "outputs": [],
   "source": [
    "def getChromagram( audioData ):\n",
    "    \n",
    "    # A\n",
    "    temp_data =  audioData[ 21 ].reshape( \n",
    "        1, \n",
    "        audioData[ 21 ].shape[0] \n",
    "    )\n",
    "    chronograph = temp_data\n",
    "    \n",
    "    # B\n",
    "    for i in range( 22, 33 ):\n",
    "        temp_data =  audioData[ i ].reshape( \n",
    "            1, \n",
    "            audioData[ i ].shape[0] \n",
    "        )\n",
    "        chronograph = np.vstack( [ chronograph,  temp_data ] )\n",
    "    \n",
    "    return chronograph"
   ]
  },
  {
   "cell_type": "code",
   "execution_count": 5,
   "metadata": {},
   "outputs": [],
   "source": [
    "def getNoteFrequency( chromagram ):\n",
    "    \n",
    "    numberOfWindows = chromagram.shape[1] #A\n",
    "    \n",
    "    freqVal = chromagram.argmax( axis = 0 ) #B\n",
    "    \n",
    "    histogram, bin = np.histogram( freqVal, bins = 12 ) #C\n",
    "    \n",
    "    normalized_hist = histogram.reshape( 1, 12 ).astype( float ) / numberOfWindows #D\n",
    "    \n",
    "    return normalized_hist"
   ]
  },
  {
   "cell_type": "code",
   "execution_count": 6,
   "metadata": {},
   "outputs": [],
   "source": [
    "fileList = []\n",
    "def getDataset( filePath ):\n",
    "    X = pd.DataFrame(  )\n",
    "    \n",
    "    columns=[ \"G#\", \"G\", \"F#\", \"F\", \"E\", \"D#\", \"D\", \"C#\", \"C\", \"B\", \"A#\", \"A\" ]\n",
    "    \n",
    "    for root, dirs, filenames in os.walk( filePath ):\n",
    "        for file in filenames:\n",
    "            fileList.append( file )\n",
    "            feature_name, features = preProcess(filePath + file )\n",
    "            chromagram = getChromagram( features )\n",
    "            noteFrequency = getNoteFrequency( chromagram )\n",
    "            x_new =  pd.Series(noteFrequency[ 0, : ])\n",
    "            X = pd.concat( [ X, x_new ], axis = 1 )\n",
    "        \n",
    "    data = X.T.copy()\n",
    "    data.columns = columns\n",
    "    data.index = [ i for i in range( 0, data.shape[ 0 ] ) ]\n",
    "            \n",
    "    return data"
   ]
  },
  {
   "cell_type": "markdown",
   "metadata": {},
   "source": [
    "전처리 함수 적용 결과(음악 하나 당 여러개 특성들로 구성)"
   ]
  },
  {
   "cell_type": "code",
   "execution_count": 7,
   "metadata": {},
   "outputs": [
    {
     "data": {
      "text/plain": [
       "array([[ 8.01724138e-01,  8.12613430e-01,  8.34845735e-01, ...,\n",
       "         2.49546279e-02,  2.49546279e-02,  2.49546279e-02],\n",
       "       [ 1.12964283e-08,  1.19499947e-08,  1.21873177e-08, ...,\n",
       "         6.81056409e-04,  3.43503721e-04,  7.18986655e-04],\n",
       "       [ 3.28890457e+00,  3.28333528e+00,  3.30485469e+00, ...,\n",
       "         2.62491939e+00,  2.90900071e+00,  3.06790207e+00],\n",
       "       ...,\n",
       "       [ 0.00000000e+00,  2.38167004e-06,  1.32507163e-07, ...,\n",
       "         3.29620414e-05,  1.24847982e-03, -1.74284315e-03],\n",
       "       [ 0.00000000e+00, -4.52897627e-06,  4.19119374e-05, ...,\n",
       "         3.89967552e-05,  7.56665978e-04, -1.05130930e-03],\n",
       "       [ 0.00000000e+00, -1.47266569e-04,  3.76018074e-05, ...,\n",
       "         7.28275025e-03, -2.14156268e-03, -6.86679510e-03]])"
      ]
     },
     "execution_count": 7,
     "metadata": {},
     "output_type": "execute_result"
    }
   ],
   "source": [
    "preProcess(\"C:/Users/hlynn/Documents/ChoreoMaker/sample wav/ArianaGrande-7rings(1).wav\")"
   ]
  },
  {
   "cell_type": "code",
   "execution_count": 8,
   "metadata": {},
   "outputs": [
    {
     "data": {
      "text/plain": [
       "array([[ 1.90562613e-02,  1.27041742e-02,  1.27041742e-02, ...,\n",
       "         9.98185118e-03,  9.98185118e-03,  9.98185118e-03],\n",
       "       [ 3.96152381e-02,  1.24543794e-01,  1.75608953e-01, ...,\n",
       "         2.44452500e-01,  3.35223761e-01,  2.17133346e-01],\n",
       "       [ 2.35867687e+00,  3.21098152e+00,  3.30395151e+00, ...,\n",
       "         3.11805157e+00,  3.29238666e+00,  3.11239336e+00],\n",
       "       ...,\n",
       "       [ 0.00000000e+00, -2.77134282e-03, -7.04431736e-04, ...,\n",
       "        -3.32567659e-03, -1.12195248e-03,  1.36043765e-03],\n",
       "       [ 0.00000000e+00, -1.18687677e-03, -3.06056122e-04, ...,\n",
       "        -2.12316276e-04, -7.61457679e-05,  1.39822847e-04],\n",
       "       [ 0.00000000e+00,  1.43369012e-02,  2.61349780e-02, ...,\n",
       "         9.21359957e-03,  6.69947238e-03, -6.25362576e-03]])"
      ]
     },
     "execution_count": 8,
     "metadata": {},
     "output_type": "execute_result"
    }
   ],
   "source": [
    "preProcess(\"C:/Users/hlynn/Documents/ChoreoMaker/sample wav/ArianaGrande-7rings(2).wav\")"
   ]
  },
  {
   "cell_type": "code",
   "execution_count": 9,
   "metadata": {},
   "outputs": [
    {
     "data": {
      "text/plain": [
       "array([[ 2.63157895e-02,  2.85843920e-02,  2.81306715e-02, ...,\n",
       "         2.31397459e-02,  1.67876588e-02,  1.36116152e-02],\n",
       "       [ 1.07913035e-01,  9.69453229e-02,  9.12894688e-02, ...,\n",
       "         1.04358619e-01,  9.25987529e-02,  8.96052599e-02],\n",
       "       [ 3.21264541e+00,  3.20433146e+00,  3.18964156e+00, ...,\n",
       "         3.26570602e+00,  3.22697492e+00,  3.20776538e+00],\n",
       "       ...,\n",
       "       [ 0.00000000e+00,  7.82828850e-03,  2.11706564e-04, ...,\n",
       "        -1.46726434e-03,  1.07308376e-03, -2.96200984e-03],\n",
       "       [ 0.00000000e+00,  1.09906488e-03, -1.08351455e-03, ...,\n",
       "         3.62985403e-04, -7.60017006e-04, -3.87290958e-04],\n",
       "       [ 0.00000000e+00,  3.32611287e-03,  1.59289641e-03, ...,\n",
       "         2.06314632e-04,  7.85722644e-03,  8.07505230e-03]])"
      ]
     },
     "execution_count": 9,
     "metadata": {},
     "output_type": "execute_result"
    }
   ],
   "source": [
    "preProcess(\"C:/Users/hlynn/Documents/ChoreoMaker/sample wav/The Chainsmokers & Coldplay - Something Just Like This(1).wav\")"
   ]
  },
  {
   "cell_type": "code",
   "execution_count": 10,
   "metadata": {},
   "outputs": [],
   "source": [
    "music=\"C:/Users/hlynn/Documents/ChoreoMaker/sample wav/ArianaGrande-7rings(2).wav\""
   ]
  },
  {
   "cell_type": "markdown",
   "metadata": {},
   "source": [
    "PCA를 이용한 차원 축소(2차원으로)"
   ]
  },
  {
   "cell_type": "code",
   "execution_count": 32,
   "metadata": {},
   "outputs": [],
   "source": [
    "from sklearn.decomposition import PCA\n",
    "#fileList = []\n",
    "def pcaFit(filePath):\n",
    "    for root, dirs, filenames in os.walk( filePath ):\n",
    "        for file in filenames:\n",
    "            x=preProcess(filePath+file)\n",
    "            pca = PCA(n_components=2)\n",
    "            pca.fit(x)\n",
    "            x_pca = pca.fit_transform(x)\n",
    "            print(str(file)+\",\"+str(x_pca))\n",
    "            plt.scatter(x_pca[:,0], x_pca[:,1])"
   ]
  },
  {
   "cell_type": "code",
   "execution_count": 33,
   "metadata": {},
   "outputs": [
    {
     "name": "stdout",
     "output_type": "stream",
     "text": [
      "ArianaGrande-7rings(1).wav,[[-5.43305033e+00  3.94180862e-01]\n",
      " [-3.83364749e+00 -3.12468442e-01]\n",
      " [-2.97010526e+01 -2.67764995e+00]\n",
      " [-5.78125936e+00 -6.23029413e-02]\n",
      " [-5.10182805e+00 -8.87143133e-02]\n",
      " [-7.05368086e+00 -2.54498702e-02]\n",
      " [-3.71562795e+00 -3.02228003e-01]\n",
      " [-5.48226291e+00 -1.73173550e-01]\n",
      " [ 2.77975324e+02 -2.86728529e-01]\n",
      " [-2.37592696e+01 -2.07697887e+00]\n",
      " [ 4.67000393e-01 -8.75242748e-01]\n",
      " [ 1.19476963e-01 -1.25948323e-01]\n",
      " [-3.89947516e-01  2.45948709e-01]\n",
      " [-3.17481443e+00 -4.47348895e-01]\n",
      " [-2.59910714e+00 -9.84018409e-02]\n",
      " [-1.29921210e+00  2.44901017e-01]\n",
      " [ 3.79391207e-01  3.74371939e-01]\n",
      " [-9.05569287e-01  3.12958464e-01]\n",
      " [-3.30769876e+00 -2.43753248e-01]\n",
      " [-5.20059862e+00 -6.42903156e-01]\n",
      " [-5.33065596e+00 -8.58626112e-01]\n",
      " [-3.50084140e+00 -2.49653837e-01]\n",
      " [-3.49509875e+00 -2.57096817e-01]\n",
      " [-3.51252356e+00 -2.31145446e-01]\n",
      " [-3.52409128e+00 -2.48789523e-01]\n",
      " [-3.83261898e+00 -2.67615041e-01]\n",
      " [-4.40638359e+00 -3.87321390e-01]\n",
      " [-3.58000766e+00 -2.12239930e-01]\n",
      " [-3.49781553e+00 -2.59487535e-01]\n",
      " [-3.50946346e+00 -2.51532896e-01]\n",
      " [-3.49964472e+00 -2.49276412e-01]\n",
      " [-3.50103899e+00 -2.42438399e-01]\n",
      " [-3.49503439e+00 -2.56245525e-01]\n",
      " [-3.78814686e+00 -2.97016010e-01]\n",
      " [-3.42503308e+00 -3.77271060e-01]\n",
      " [-3.49192495e+00 -2.79844319e-01]\n",
      " [-3.44764591e+00 -3.08683498e+00]\n",
      " [-3.41240531e+00 -5.65297218e-01]\n",
      " [-3.48158936e+00 -2.63506284e-02]\n",
      " [-3.31741824e+00 -1.35877288e+00]\n",
      " [-3.49858942e+00 -3.24416093e-01]\n",
      " [-3.40288132e+00 -8.94019291e-01]\n",
      " [-4.74141856e+00  2.73582842e+01]\n",
      " [-3.88971643e+00 -1.36015046e+00]\n",
      " [-3.36534531e+00 -1.69593724e+00]\n",
      " [-3.37466050e+00 -8.27301206e-01]\n",
      " [-3.44474627e+00 -2.00669948e-01]\n",
      " [-3.52172698e+00 -4.06768243e-01]\n",
      " [-3.53408483e+00  2.58500986e-02]\n",
      " [-3.49400330e+00  1.31688131e-01]\n",
      " [-3.40886557e+00  1.70436663e-01]\n",
      " [-3.42354531e+00  8.23392512e-02]\n",
      " [-3.51514102e+00 -3.79800856e-01]\n",
      " [-3.58083020e+00 -6.80800568e-01]\n",
      " [-3.56404323e+00 -9.23698525e-01]\n",
      " [-3.49128794e+00 -2.49762592e-01]\n",
      " [-3.49115716e+00 -2.56852211e-01]\n",
      " [-3.49165254e+00 -2.32688858e-01]\n",
      " [-3.49080844e+00 -2.41206295e-01]\n",
      " [-3.49177433e+00 -1.95130361e-01]\n",
      " [-3.49590094e+00 -3.36248522e-01]\n",
      " [-3.49134712e+00 -1.98623476e-01]\n",
      " [-3.49118365e+00 -2.59463253e-01]\n",
      " [-3.49087050e+00 -2.46446001e-01]\n",
      " [-3.49122951e+00 -2.49007380e-01]\n",
      " [-3.49143319e+00 -2.43993899e-01]\n",
      " [-3.49118685e+00 -2.56079008e-01]\n",
      " [-3.49375296e+00 -2.79746393e-01]]\n",
      "ArianaGrande-7rings(2).wav,[[-3.15553764e+00 -1.39101658e-01]\n",
      " [-3.53515706e+00 -1.84140287e-01]\n",
      " [-2.96564856e+01  6.21472432e-02]\n",
      " [-3.79167016e+00  9.90604582e-02]\n",
      " [-4.54052993e+00  1.87232646e-01]\n",
      " [-3.12892732e+00 -5.87187898e-02]\n",
      " [-3.35037773e+00 -6.92011083e-02]\n",
      " [-3.16137336e+00 -1.35684024e-01]\n",
      " [ 2.40020210e+02 -3.80745225e-01]\n",
      " [-3.25868019e+01 -2.73368598e+00]\n",
      " [ 1.35775782e+00 -6.51603029e-01]\n",
      " [ 1.33852796e+00 -5.48443951e-01]\n",
      " [ 7.80188379e-01 -3.84988651e-01]\n",
      " [-3.11369261e+00 -3.87982251e-01]\n",
      " [-2.28165133e+00 -2.74428873e-01]\n",
      " [ 1.35908591e-02  9.66321964e-03]\n",
      " [ 2.69086948e+00  3.87659041e-01]\n",
      " [ 1.15472056e+00  2.09166510e-01]\n",
      " [-2.15446438e+00 -3.02762933e-01]\n",
      " [-4.96148068e+00 -5.41180952e-01]\n",
      " [-5.13515410e+00 -4.95039785e-01]\n",
      " [-3.02731351e+00 -1.34481907e-01]\n",
      " [-3.00149406e+00 -1.44389447e-01]\n",
      " [-3.29551662e+00 -1.38637603e-01]\n",
      " [-3.08122287e+00 -9.32634935e-02]\n",
      " [-3.38962298e+00 -9.76637898e-02]\n",
      " [-4.08007827e+00 -2.23133584e-01]\n",
      " [-3.09974002e+00 -1.11464813e-01]\n",
      " [-3.00289409e+00 -1.43864885e-01]\n",
      " [-3.01846128e+00 -1.39064034e-01]\n",
      " [-3.00959184e+00 -1.40812599e-01]\n",
      " [-3.01303154e+00 -1.39499582e-01]\n",
      " [-3.00172968e+00 -1.44349841e-01]\n",
      " [-3.42113087e+00 -1.63182712e-01]\n",
      " [-2.99666094e+00 -1.46711256e-01]\n",
      " [-3.01851353e+00 -2.29714593e-01]\n",
      " [-3.08310145e+00 -1.09569162e+00]\n",
      " [-2.99046818e+00  2.14331536e-01]\n",
      " [-2.98655931e+00  3.25589811e-01]\n",
      " [-2.99463761e+00 -1.64245069e-02]\n",
      " [-3.02216013e+00 -1.37908416e-01]\n",
      " [-2.99681251e+00 -1.39565099e-01]\n",
      " [-2.30126418e+00  1.99957202e+01]\n",
      " [-3.09792920e+00 -6.74482721e+00]\n",
      " [-3.02696341e+00 -5.46322535e-01]\n",
      " [-3.08415494e+00 -4.84473186e-01]\n",
      " [-3.07207220e+00 -4.04181234e-01]\n",
      " [-3.03428711e+00 -6.98620106e-01]\n",
      " [-3.00154460e+00 -3.70327577e-01]\n",
      " [-2.96175826e+00  4.57537759e-01]\n",
      " [-2.92626731e+00  1.42099833e+00]\n",
      " [-2.92319594e+00  9.36071910e-01]\n",
      " [-2.94205058e+00 -3.17685568e-01]\n",
      " [-2.95525163e+00 -1.01208432e+00]\n",
      " [-2.96249754e+00 -9.28696579e-01]\n",
      " [-2.99792414e+00 -1.34520057e-01]\n",
      " [-2.99746755e+00 -1.43435998e-01]\n",
      " [-3.03017467e+00 -1.73012238e-01]\n",
      " [-2.99608177e+00 -8.44065499e-02]\n",
      " [-2.99114700e+00 -4.59832906e-02]\n",
      " [-2.99491053e+00 -3.43810587e-01]\n",
      " [-2.98554193e+00 -1.03931043e-01]\n",
      " [-2.99757480e+00 -1.43097806e-01]\n",
      " [-2.99499628e+00 -1.31788668e-01]\n",
      " [-2.99736170e+00 -1.41573823e-01]\n",
      " [-2.99751554e+00 -1.41545403e-01]\n",
      " [-2.99739398e+00 -1.43382090e-01]\n",
      " [-3.00449305e+00 -1.99941506e-01]]\n",
      "ArianaGrande-7rings(3).wav,[[-3.16059295e+00 -2.14884606e-01]\n",
      " [-3.50768786e+00 -2.60976628e-01]\n",
      " [-2.99864326e+01 -2.32109137e-01]\n",
      " [-3.77987256e+00 -4.39908990e-02]\n",
      " [-4.57042896e+00  2.52480970e-02]\n",
      " [-3.13847524e+00 -1.66673241e-01]\n",
      " [-3.47741055e+00 -3.06675589e-01]\n",
      " [-3.16694930e+00 -2.09015888e-01]\n",
      " [ 2.44373424e+02 -2.93565118e-01]\n",
      " [-3.54640443e+01 -1.21213413e+00]\n",
      " [-3.73761777e+00 -1.14492965e+00]\n",
      " [-1.27580181e+00 -9.31119435e-01]\n",
      " [ 1.19302464e+00 -6.18206930e-01]\n",
      " [-1.39664963e+00 -3.69086541e-01]\n",
      " [-2.36919888e+00 -5.65121760e-01]\n",
      " [-3.05968418e+00 -6.66742230e-01]\n",
      " [-1.33153263e+00 -3.64699950e-01]\n",
      " [ 2.12951391e-01  2.34542500e-01]\n",
      " [ 1.34109629e+00  4.76417898e-01]\n",
      " [ 7.71547514e-01  3.52645224e-01]\n",
      " [-2.89511372e-01  1.01992978e-01]\n",
      " [-3.19567670e+00 -1.68843625e-01]\n",
      " [-3.63269655e+00 -3.01462048e-01]\n",
      " [-4.42343294e+00 -2.92668098e-01]\n",
      " [-3.18937012e+00 -1.64938118e-01]\n",
      " [-3.07072484e+00 -2.03807048e-01]\n",
      " [-3.04802152e+00 -2.12386890e-01]\n",
      " [-3.05233263e+00 -2.11863535e-01]\n",
      " [-3.03555358e+00 -2.18850239e-01]\n",
      " [-3.03990878e+00 -2.16091436e-01]\n",
      " [-3.04777162e+00 -2.13930799e-01]\n",
      " [-3.05936465e+00 -2.10951926e-01]\n",
      " [-3.05195114e+00 -2.10114830e-01]\n",
      " [-3.57777868e+00 -2.64530830e-01]\n",
      " [-3.03376224e+00 -2.21261713e-01]\n",
      " [-3.03270429e+00 -3.55819225e-01]\n",
      " [-3.10584289e+00 -1.83232445e+00]\n",
      " [-3.02823264e+00  8.86059627e-02]\n",
      " [-3.02983504e+00  1.51444959e-01]\n",
      " [-3.02903686e+00 -1.01819928e-01]\n",
      " [-3.04497458e+00 -4.61615142e-01]\n",
      " [-3.03343560e+00 -2.13152917e-01]\n",
      " [-1.80517929e+00  2.09261134e+01]\n",
      " [-3.03628743e+00 -4.82385394e+00]\n",
      " [-3.08594342e+00 -1.65391071e+00]\n",
      " [-3.03482193e+00 -9.23960777e-01]\n",
      " [-3.02192237e+00 -2.93187753e-01]\n",
      " [-3.02337774e+00 -2.43684038e-01]\n",
      " [-3.07076263e+00 -8.68884237e-01]\n",
      " [-3.07674671e+00 -1.10271078e+00]\n",
      " [-3.02801206e+00 -3.35123860e-01]\n",
      " [-2.95325938e+00  9.44176145e-01]\n",
      " [-2.90918333e+00  1.61700328e+00]\n",
      " [-2.92841101e+00  1.38256422e+00]\n",
      " [-2.99143146e+00  7.39747329e-01]\n",
      " [-3.02250211e+00 -7.70665300e-02]\n",
      " [-3.04322798e+00 -4.61883066e-01]\n",
      " [-3.05267996e+00 -4.55561214e-01]\n",
      " [-3.03018752e+00 -1.36715621e-01]\n",
      " [-3.03215808e+00 -1.91475790e-01]\n",
      " [-3.03293435e+00 -2.04545400e-01]\n",
      " [-3.03249717e+00 -2.03935835e-01]\n",
      " [-3.03375588e+00 -2.18151724e-01]\n",
      " [-3.03353925e+00 -2.13358388e-01]\n",
      " [-3.03289177e+00 -2.07419035e-01]\n",
      " [-3.03168672e+00 -1.96642687e-01]\n",
      " [-3.03292808e+00 -2.01258339e-01]\n",
      " [-3.04141761e+00 -3.50807721e-01]]\n",
      "The Chainsmokers & Coldplay - Something Just Like This(1).wav,[[-2.20437973e+00  1.43086725e-02]\n",
      " [-2.95361924e+00 -2.90316412e-02]\n",
      " [-3.06070936e+01  7.84745300e-02]\n",
      " [-2.89932053e+00  6.32112778e-02]\n",
      " [-3.46543033e+00  7.27242829e-02]\n",
      " [-2.87199974e+00  1.03049951e-01]\n",
      " [-2.03183337e+00  1.51053110e-02]\n",
      " [-2.21784167e+00  3.33599035e-02]\n",
      " [ 1.96333051e+02 -1.18774195e-01]\n",
      " [-2.53323891e+01 -1.01149674e+00]\n",
      " [-1.01013661e+00 -1.49296929e+00]\n",
      " [-2.57348728e+00 -4.42832298e-01]\n",
      " [-4.67807572e-01  1.21746493e+00]\n",
      " [-2.44204710e+00  1.29974721e+00]\n",
      " [-1.25025939e+00  1.08372430e-01]\n",
      " [-2.85852884e+00 -1.93599033e-01]\n",
      " [-1.09522898e+00  2.60037620e-01]\n",
      " [-1.88090006e+00  2.41138818e-02]\n",
      " [-3.28690009e+00 -6.66030432e-01]\n",
      " [-5.24634713e+00 -5.22722617e-01]\n",
      " [-1.50725556e+00 -2.25985126e-01]\n",
      " [-2.09584547e+00  2.68717083e-02]\n",
      " [-2.02510432e+00  1.33697609e-02]\n",
      " [-2.40564603e+00 -1.81146327e-02]\n",
      " [-2.03744682e+00  1.87803598e-02]\n",
      " [-2.05831177e+00  1.69410306e-02]\n",
      " [-2.14030637e+00  1.94823862e-02]\n",
      " [-4.01101523e+00  2.91150103e-01]\n",
      " [-2.01509681e+00  1.51210480e-02]\n",
      " [-2.05909470e+00 -7.02065393e-03]\n",
      " [-2.22814884e+00 -4.43151433e-02]\n",
      " [-2.29325308e+00 -3.64469489e-02]\n",
      " [-2.02335680e+00  1.20141721e-02]\n",
      " [-2.58075391e+00  8.83198253e-02]\n",
      " [-2.00723421e+00  3.05170796e-02]\n",
      " [-2.00616530e+00  2.55517307e-02]\n",
      " [-2.00738856e+00  5.22917352e-02]\n",
      " [-2.01145595e+00  1.16201235e-01]\n",
      " [-2.01326690e+00  1.44824042e-01]\n",
      " [-2.00729014e+00  1.88376330e-01]\n",
      " [-2.00889038e+00  1.55272519e-02]\n",
      " [-2.00918314e+00  3.09739995e-02]\n",
      " [-1.95446320e+00  2.05570351e+00]\n",
      " [-1.95366493e+00 -7.29536172e-01]\n",
      " [-1.98232719e+00 -1.16945895e+00]\n",
      " [-1.97803970e+00 -2.19131510e-01]\n",
      " [-2.03042314e+00  7.86556178e-01]\n",
      " [-2.05318822e+00  3.39165560e-01]\n",
      " [-2.10824495e+00 -5.29014972e-01]\n",
      " [-1.96037539e+00 -3.66949671e-01]\n",
      " [-1.94434745e+00  2.68417329e-01]\n",
      " [-1.99489117e+00  4.15399640e-01]\n",
      " [-1.96648051e+00  1.38990004e-01]\n",
      " [-2.02877734e+00 -3.47698625e-01]\n",
      " [-1.99814840e+00 -3.77157922e-01]\n",
      " [-2.00846628e+00  1.30222016e-02]\n",
      " [-2.00783274e+00  1.51121455e-02]\n",
      " [-1.99894800e+00 -1.31894823e-02]\n",
      " [-2.00952257e+00  1.50461882e-02]\n",
      " [-2.00887370e+00  1.28906404e-02]\n",
      " [-2.01117360e+00 -2.26706101e-03]\n",
      " [-2.03911759e+00  2.63586249e-02]\n",
      " [-2.00865163e+00  1.69192995e-02]\n",
      " [-2.00189258e+00  2.18622067e-02]\n",
      " [-2.00525515e+00  1.99059080e-02]\n",
      " [-2.00820466e+00 -4.68026233e-03]\n",
      " [-2.00867158e+00  1.51666658e-02]\n"
     ]
    },
    {
     "name": "stdout",
     "output_type": "stream",
     "text": [
      " [-2.01600866e+00  1.16234769e-02]]\n",
      "The Chainsmokers & Coldplay - Something Just Like This(2).wav,[[-2.62889161e+00 -4.90300406e-01]\n",
      " [-2.93717726e+00  5.40143632e-01]\n",
      " [-2.98179042e+01 -1.05425182e+00]\n",
      " [-3.73124721e+00 -4.33800881e-01]\n",
      " [-3.80832666e+00 -1.49818967e-01]\n",
      " [-8.01002610e+00 -4.06646923e+00]\n",
      " [-1.96693655e+00 -1.40143283e-01]\n",
      " [-2.97733369e+00 -9.45493598e-01]\n",
      " [ 1.98720129e+02  1.72240280e-01]\n",
      " [-1.56973640e+01  6.43839035e+00]\n",
      " [-2.81017945e+00  1.23307450e+00]\n",
      " [-3.33640350e+00  4.86837208e-01]\n",
      " [-2.75843040e+00  6.14838106e-01]\n",
      " [-5.32492563e+00  4.88051040e-01]\n",
      " [-4.12134295e+00  6.17189622e-02]\n",
      " [-3.43977401e+00  3.36583833e-01]\n",
      " [-2.63379088e-01  7.33203981e-01]\n",
      " [-1.06284307e+00  5.95477852e-01]\n",
      " [-2.87458347e+00  3.89899829e-01]\n",
      " [-3.56967447e+00 -2.77932236e-01]\n",
      " [-3.49581949e+00 -5.73096641e-01]\n",
      " [-1.98031702e+00 -1.68199818e-01]\n",
      " [-1.97851139e+00 -1.76403752e-01]\n",
      " [-2.78460451e+00  1.74932226e-02]\n",
      " [-1.96370825e+00 -1.69820694e-01]\n",
      " [-2.02592950e+00 -1.00223727e-01]\n",
      " [-2.18482233e+00 -2.39948429e-01]\n",
      " [-3.21263289e+00  6.91984560e-02]\n",
      " [-1.95119272e+00 -1.70166912e-01]\n",
      " [-1.94713300e+00 -1.63603479e-01]\n",
      " [-1.98908410e+00 -1.44256353e-01]\n",
      " [-2.12065767e+00 -5.37317487e-02]\n",
      " [-1.94792400e+00 -1.67187564e-01]\n",
      " [-2.41293062e+00 -9.30240354e-02]\n",
      " [-1.93076862e+00 -2.34205606e-01]\n",
      " [-1.96310408e+00  1.00516884e-01]\n",
      " [-1.91619176e+00 -2.48348181e-01]\n",
      " [-1.93149797e+00 -2.43075140e-01]\n",
      " [-1.93736776e+00 -1.80545634e-01]\n",
      " [-1.88306113e+00 -6.52008229e-01]\n",
      " [-1.93690155e+00 -1.55232673e-01]\n",
      " [-1.92839193e+00 -2.82246996e-01]\n",
      " [-1.91912578e+00  1.50481040e+00]\n",
      " [-2.02834535e+00  1.03990109e+00]\n",
      " [-1.90892407e+00  3.92508154e-01]\n",
      " [-1.96035984e+00 -3.28535140e-01]\n",
      " [-1.89908742e+00 -2.82793041e-01]\n",
      " [-1.85660662e+00 -2.41209874e-03]\n",
      " [-1.88275683e+00  9.39039188e-02]\n",
      " [-1.92378304e+00  1.01288106e-01]\n",
      " [-1.94677023e+00  2.16184277e-02]\n",
      " [-1.92137133e+00 -4.35382209e-02]\n",
      " [-1.89497835e+00 -2.46363476e-01]\n",
      " [-1.90146815e+00 -3.42272356e-01]\n",
      " [-1.93122871e+00 -2.87400842e-01]\n",
      " [-1.93574603e+00 -1.62605620e-01]\n",
      " [-1.93556350e+00 -1.65228430e-01]\n",
      " [-1.94124572e+00 -1.32577572e-01]\n",
      " [-1.93564994e+00 -1.63321916e-01]\n",
      " [-1.93530084e+00 -1.49964611e-01]\n",
      " [-1.93843527e+00 -1.75244754e-01]\n",
      " [-1.94798762e+00 -2.25355341e-01]\n",
      " [-1.93523361e+00 -1.62784829e-01]\n",
      " [-1.93564556e+00 -1.62734730e-01]\n",
      " [-1.93543192e+00 -1.63652590e-01]\n",
      " [-1.93362089e+00 -1.24440185e-01]\n",
      " [-1.93559357e+00 -1.62201811e-01]\n",
      " [-1.94057284e+00 -1.74734632e-01]]\n"
     ]
    },
    {
     "data": {
      "image/png": "[encoded data removed]",
      "text/plain": [
       "<Figure size 432x288 with 1 Axes>"
      ]
     },
     "metadata": {
      "needs_background": "light"
     },
     "output_type": "display_data"
    }
   ],
   "source": [
    "pcaFit(\"C:/Users/hlynn/Documents/ChoreoMaker/sample wav/\")"
   ]
  },
  {
   "cell_type": "code",
   "execution_count": 65,
   "metadata": {},
   "outputs": [
    {
     "name": "stdout",
     "output_type": "stream",
     "text": [
      "[0.98582929 0.00759512]\n"
     ]
    }
   ],
   "source": [
    "print(pca.explained_variance_ratio_)"
   ]
  },
  {
   "cell_type": "code",
   "execution_count": 66,
   "metadata": {},
   "outputs": [],
   "source": []
  },
  {
   "cell_type": "markdown",
   "metadata": {},
   "source": [
    "Visualization(시각화)"
   ]
  },
  {
   "cell_type": "code",
   "execution_count": 69,
   "metadata": {},
   "outputs": [
    {
     "data": {
      "text/plain": [
       "<matplotlib.collections.PathCollection at 0x2c5987526c8>"
      ]
     },
     "execution_count": 69,
     "metadata": {},
     "output_type": "execute_result"
    },
    {
     "data": {
      "image/png": "[encoded data removed]",
      "text/plain": [
       "<Figure size 432x288 with 1 Axes>"
      ]
     },
     "metadata": {
      "needs_background": "light"
     },
     "output_type": "display_data"
    }
   ],
   "source": []
  },
  {
   "cell_type": "code",
   "execution_count": 7,
   "metadata": {},
   "outputs": [],
   "source": [
    "data = getDataset(\"C:/Users/hlynn/Documents/ChoreoMaker/sample wav/\")"
   ]
  },
  {
   "cell_type": "code",
   "execution_count": 8,
   "metadata": {},
   "outputs": [
    {
     "data": {
      "text/html": [
       "<div>\n",
       "<style scoped>\n",
       "    .dataframe tbody tr th:only-of-type {\n",
       "        vertical-align: middle;\n",
       "    }\n",
       "\n",
       "    .dataframe tbody tr th {\n",
       "        vertical-align: top;\n",
       "    }\n",
       "\n",
       "    .dataframe thead th {\n",
       "        text-align: right;\n",
       "    }\n",
       "</style>\n",
       "<table border=\"1\" class=\"dataframe\">\n",
       "  <thead>\n",
       "    <tr style=\"text-align: right;\">\n",
       "      <th></th>\n",
       "      <th>G#</th>\n",
       "      <th>G</th>\n",
       "      <th>F#</th>\n",
       "      <th>F</th>\n",
       "      <th>E</th>\n",
       "      <th>D#</th>\n",
       "      <th>D</th>\n",
       "      <th>C#</th>\n",
       "      <th>C</th>\n",
       "      <th>B</th>\n",
       "      <th>A#</th>\n",
       "      <th>A</th>\n",
       "    </tr>\n",
       "  </thead>\n",
       "  <tbody>\n",
       "    <tr>\n",
       "      <th>0</th>\n",
       "      <td>0.443038</td>\n",
       "      <td>0.0</td>\n",
       "      <td>0.0</td>\n",
       "      <td>0.000000</td>\n",
       "      <td>0.000000</td>\n",
       "      <td>0.0</td>\n",
       "      <td>0.518987</td>\n",
       "      <td>0.0</td>\n",
       "      <td>0.000000</td>\n",
       "      <td>0.000000</td>\n",
       "      <td>0.0</td>\n",
       "      <td>0.037975</td>\n",
       "    </tr>\n",
       "    <tr>\n",
       "      <th>1</th>\n",
       "      <td>0.126582</td>\n",
       "      <td>0.0</td>\n",
       "      <td>0.0</td>\n",
       "      <td>0.012658</td>\n",
       "      <td>0.000000</td>\n",
       "      <td>0.0</td>\n",
       "      <td>0.303797</td>\n",
       "      <td>0.0</td>\n",
       "      <td>0.000000</td>\n",
       "      <td>0.544304</td>\n",
       "      <td>0.0</td>\n",
       "      <td>0.012658</td>\n",
       "    </tr>\n",
       "    <tr>\n",
       "      <th>2</th>\n",
       "      <td>0.037975</td>\n",
       "      <td>0.0</td>\n",
       "      <td>0.0</td>\n",
       "      <td>0.000000</td>\n",
       "      <td>0.392405</td>\n",
       "      <td>0.0</td>\n",
       "      <td>0.000000</td>\n",
       "      <td>0.0</td>\n",
       "      <td>0.531646</td>\n",
       "      <td>0.000000</td>\n",
       "      <td>0.0</td>\n",
       "      <td>0.037975</td>\n",
       "    </tr>\n",
       "    <tr>\n",
       "      <th>3</th>\n",
       "      <td>0.164557</td>\n",
       "      <td>0.0</td>\n",
       "      <td>0.0</td>\n",
       "      <td>0.000000</td>\n",
       "      <td>0.000000</td>\n",
       "      <td>0.0</td>\n",
       "      <td>0.000000</td>\n",
       "      <td>0.0</td>\n",
       "      <td>0.000000</td>\n",
       "      <td>0.000000</td>\n",
       "      <td>0.0</td>\n",
       "      <td>0.835443</td>\n",
       "    </tr>\n",
       "    <tr>\n",
       "      <th>4</th>\n",
       "      <td>0.291139</td>\n",
       "      <td>0.0</td>\n",
       "      <td>0.0</td>\n",
       "      <td>0.000000</td>\n",
       "      <td>0.088608</td>\n",
       "      <td>0.0</td>\n",
       "      <td>0.582278</td>\n",
       "      <td>0.0</td>\n",
       "      <td>0.000000</td>\n",
       "      <td>0.000000</td>\n",
       "      <td>0.0</td>\n",
       "      <td>0.037975</td>\n",
       "    </tr>\n",
       "  </tbody>\n",
       "</table>\n",
       "</div>"
      ],
      "text/plain": [
       "         G#    G   F#         F         E   D#         D   C#         C  \\\n",
       "0  0.443038  0.0  0.0  0.000000  0.000000  0.0  0.518987  0.0  0.000000   \n",
       "1  0.126582  0.0  0.0  0.012658  0.000000  0.0  0.303797  0.0  0.000000   \n",
       "2  0.037975  0.0  0.0  0.000000  0.392405  0.0  0.000000  0.0  0.531646   \n",
       "3  0.164557  0.0  0.0  0.000000  0.000000  0.0  0.000000  0.0  0.000000   \n",
       "4  0.291139  0.0  0.0  0.000000  0.088608  0.0  0.582278  0.0  0.000000   \n",
       "\n",
       "          B   A#         A  \n",
       "0  0.000000  0.0  0.037975  \n",
       "1  0.544304  0.0  0.012658  \n",
       "2  0.000000  0.0  0.037975  \n",
       "3  0.000000  0.0  0.835443  \n",
       "4  0.000000  0.0  0.037975  "
      ]
     },
     "execution_count": 8,
     "metadata": {},
     "output_type": "execute_result"
    }
   ],
   "source": [
    "data"
   ]
  },
  {
   "cell_type": "code",
   "execution_count": 9,
   "metadata": {},
   "outputs": [],
   "source": [
    "k = 3\n",
    "epochs = 1000"
   ]
  },
  {
   "cell_type": "code",
   "execution_count": 10,
   "metadata": {},
   "outputs": [],
   "source": [
    "def initilizeCentroids( data, k ):\n",
    "\n",
    "    centroids = data[ 0: k ] #A\n",
    "    \n",
    "    return centroids"
   ]
  },
  {
   "cell_type": "code",
   "execution_count": 11,
   "metadata": {},
   "outputs": [],
   "source": [
    "tf.compat.v1.disable_eager_execution()\n",
    "X = tf.compat.v1.placeholder( dtype = tf.float32 )\n",
    "C = tf.compat.v1.placeholder( dtype = tf.float32 )\n",
    "C_labels = tf.compat.v1.placeholder( dtype = tf.int32 )"
   ]
  },
  {
   "cell_type": "code",
   "execution_count": 12,
   "metadata": {},
   "outputs": [],
   "source": [
    "# utility to assign centroids to examples\n",
    "expanded_vectors = tf.expand_dims( X, 0 )\n",
    "expanded_centroids = tf.expand_dims( C, 1 )\n",
    "distance = tf.reduce_sum( tf.square( tf.subtract( expanded_vectors, expanded_centroids ) ), axis = 2 )\n",
    "getCentroidsOp = tf.argmin( distance, 0 )\n",
    "\n",
    "\n",
    "# utility to recalculate centroids\n",
    "sums = tf.math.unsorted_segment_sum( X, C_labels, k )\n",
    "counts = tf.math.unsorted_segment_sum( tf.ones_like( X ), C_labels, k  )\n",
    "reCalculateCentroidsOp = tf.math.divide( sums,  counts )"
   ]
  },
  {
   "cell_type": "code",
   "execution_count": 13,
   "metadata": {},
   "outputs": [
    {
     "data": {
      "text/plain": [
       "'def assignCentroids(X, C):  \\n    expanded_vectors = tf.expand_dims(X, 0)\\n    expanded_centroids = tf.expand_dims(C, 1)\\n    distance = tf.math.reduce_sum( tf.math.square( tf.math.subtract( expanded_vectors, expanded_centroids ) ), axis=2 )\\n    return tf.math.argmin(distance, 0)\\n                                              \\n# utility to recalculate centroids\\ndef reCalculateCentroids(X, X_labels):\\n    sums = tf.math.unsorted_segment_sum( X, X_labels, k )\\n    counts = tf.math.unsorted_segment_sum( tf.ones_like( X ), X_labels, k  )\\n    return tf.math.divide( sums, counts )  '"
      ]
     },
     "execution_count": 13,
     "metadata": {},
     "output_type": "execute_result"
    }
   ],
   "source": [
    "\"\"\"def assignCentroids(X, C):  \n",
    "    expanded_vectors = tf.expand_dims(X, 0)\n",
    "    expanded_centroids = tf.expand_dims(C, 1)\n",
    "    distance = tf.math.reduce_sum( tf.math.square( tf.math.subtract( expanded_vectors, expanded_centroids ) ), axis=2 )\n",
    "    return tf.math.argmin(distance, 0)\n",
    "                                              \n",
    "# utility to recalculate centroids\n",
    "def reCalculateCentroids(X, X_labels):\n",
    "    sums = tf.math.unsorted_segment_sum( X, X_labels, k )\n",
    "    counts = tf.math.unsorted_segment_sum( tf.ones_like( X ), X_labels, k  )\n",
    "    return tf.math.divide( sums, counts )  \"\"\""
   ]
  },
  {
   "cell_type": "code",
   "execution_count": 14,
   "metadata": {},
   "outputs": [
    {
     "name": "stdout",
     "output_type": "stream",
     "text": [
      "[0 1 2 0 0]\n",
      "[[0.29957807 0.         0.         0.         0.02953587 0.\n",
      "  0.36708865 0.         0.         0.         0.         0.30379745]\n",
      " [0.12658228 0.         0.         0.01265823 0.         0.\n",
      "  0.30379745 0.         0.         0.5443038  0.         0.01265823]\n",
      " [0.03797468 0.         0.         0.         0.39240506 0.\n",
      "  0.         0.         0.5316456  0.         0.         0.03797468]]\n"
     ]
    }
   ],
   "source": [
    "centroids = []\n",
    "data_labels = []\n",
    "\n",
    "with tf.compat.v1.Session() as sess:\n",
    "\n",
    "    # Initilize all tensor flow variables\n",
    "    sess.run( tf.compat.v1.global_variables_initializer() )\n",
    "\n",
    "    # Get initial list of k centroids\n",
    "    centroids = initilizeCentroids( data, k )\n",
    "\n",
    "    for epoch in range( epochs ):\n",
    "        data_labels =  sess.run( getCentroidsOp, feed_dict = { X: data, C: centroids } )\n",
    "        centroids = sess.run( reCalculateCentroidsOp, feed_dict = { X: data, C_labels: data_labels } )\n",
    "\n",
    "print( data_labels )\n",
    "print( centroids )"
   ]
  },
  {
   "cell_type": "code",
   "execution_count": 15,
   "metadata": {},
   "outputs": [
    {
     "data": {
      "text/html": [
       "<div>\n",
       "<style scoped>\n",
       "    .dataframe tbody tr th:only-of-type {\n",
       "        vertical-align: middle;\n",
       "    }\n",
       "\n",
       "    .dataframe tbody tr th {\n",
       "        vertical-align: top;\n",
       "    }\n",
       "\n",
       "    .dataframe thead th {\n",
       "        text-align: right;\n",
       "    }\n",
       "</style>\n",
       "<table border=\"1\" class=\"dataframe\">\n",
       "  <thead>\n",
       "    <tr style=\"text-align: right;\">\n",
       "      <th></th>\n",
       "      <th>Labels</th>\n",
       "      <th>File Names</th>\n",
       "    </tr>\n",
       "  </thead>\n",
       "  <tbody>\n",
       "    <tr>\n",
       "      <th>0</th>\n",
       "      <td>0</td>\n",
       "      <td>ArianaGrande-7rings(1).wav</td>\n",
       "    </tr>\n",
       "    <tr>\n",
       "      <th>1</th>\n",
       "      <td>1</td>\n",
       "      <td>ArianaGrande-7rings(2).wav</td>\n",
       "    </tr>\n",
       "    <tr>\n",
       "      <th>2</th>\n",
       "      <td>2</td>\n",
       "      <td>ArianaGrande-7rings(3).wav</td>\n",
       "    </tr>\n",
       "    <tr>\n",
       "      <th>3</th>\n",
       "      <td>0</td>\n",
       "      <td>The Chainsmokers &amp; Coldplay - Something Just L...</td>\n",
       "    </tr>\n",
       "    <tr>\n",
       "      <th>4</th>\n",
       "      <td>0</td>\n",
       "      <td>The Chainsmokers &amp; Coldplay - Something Just L...</td>\n",
       "    </tr>\n",
       "  </tbody>\n",
       "</table>\n",
       "</div>"
      ],
      "text/plain": [
       "   Labels                                         File Names\n",
       "0       0                         ArianaGrande-7rings(1).wav\n",
       "1       1                         ArianaGrande-7rings(2).wav\n",
       "2       2                         ArianaGrande-7rings(3).wav\n",
       "3       0  The Chainsmokers & Coldplay - Something Just L...\n",
       "4       0  The Chainsmokers & Coldplay - Something Just L..."
      ]
     },
     "execution_count": 15,
     "metadata": {},
     "output_type": "execute_result"
    }
   ],
   "source": [
    "final_labels = pd.DataFrame( { \"Labels\": data_labels, \"File Names\": fileList } )\n",
    "final_labels"
   ]
  },
  {
   "cell_type": "code",
   "execution_count": null,
   "metadata": {},
   "outputs": [],
   "source": []
  }
 ],
 "metadata": {
  "kernelspec": {
   "display_name": "Python 3",
   "language": "python",
   "name": "python3"
  },
  "language_info": {
   "codemirror_mode": {
    "name": "ipython",
    "version": 3
   },
   "file_extension": ".py",
   "mimetype": "text/x-python",
   "name": "python",
   "nbconvert_exporter": "python",
   "pygments_lexer": "ipython3",
   "version": "3.7.6"
  }
 },
 "nbformat": 4,
 "nbformat_minor": 4
}
