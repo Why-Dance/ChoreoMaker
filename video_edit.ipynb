{
 "cells": [
  {
   "cell_type": "code",
   "execution_count": 5,
   "metadata": {},
   "outputs": [],
   "source": [
    "import numpy as np\n",
    "import cv2\n",
    "\n",
    "filename = \"video.mp4\"\n",
    "cap = cv2.VideoCapture(filename)\n",
    "\n",
    "fps = cap.get(cv2.CAP_PROP_FPS)\n",
    "mfps = fps\n",
    "\n",
    "width = cv2.CAP_PROP_FRAME_WIDTH\n",
    "height = cv2.CAP_PROP_FRAME_HEIGHT\n",
    "\n",
    "startSec = 3\n",
    "endSec = 8\n",
    "\n",
    "currentFrame = 0;\n",
    "\n",
    "fourcc = cv2.VideoWriter_fourcc(*'H264')\n",
    "out = cv2.VideoWriter('output.mp4', fourcc, mfps, (width, height))\n",
    "\n",
    "if not cap.isOpened():\n",
    "    print(\"could not open :\", filename)\n",
    "    exit(0)\n",
    "\n",
    "cap.set(cv2.CAP_PROP_POS_FRAMES, startSec*fps)\n",
    "\n",
    "while(True):\n",
    "    if (currentFrame > (endSec*fps - startSec*fps)):\n",
    "        break\n",
    "    currentFrame += 1;\n",
    "    \n",
    "    ret,frame = cap.read()\n",
    "    \n",
    "    if ret == True:\n",
    "        out.write(frame)\n",
    "        cv2.imshow('VideoFrame', frame)\n",
    "        if cv2.waitKey(int(mfps))>0:\n",
    "            break\n",
    "\n",
    "cap.release()\n",
    "cv2.destroyAllWindows()"
   ]
  },
  {
   "cell_type": "code",
   "execution_count": null,
   "metadata": {},
   "outputs": [],
   "source": []
  },
  {
   "cell_type": "code",
   "execution_count": null,
   "metadata": {},
   "outputs": [],
   "source": []
  }
 ],
 "metadata": {
  "kernelspec": {
   "display_name": "Python 3",
   "language": "python",
   "name": "python3"
  },
  "language_info": {
   "codemirror_mode": {
    "name": "ipython",
    "version": 3
   },
   "file_extension": ".py",
   "mimetype": "text/x-python",
   "name": "python",
   "nbconvert_exporter": "python",
   "pygments_lexer": "ipython3",
   "version": "3.6.5"
  }
 },
 "nbformat": 4,
 "nbformat_minor": 2
}
